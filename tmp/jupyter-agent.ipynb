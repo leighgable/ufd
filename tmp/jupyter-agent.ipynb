{
  "metadata": {
    "kernel_info": {
      "name": "python3"
    },
    "language_info": {
      "name": "python",
      "version": "3.12"
    }
  },
  "nbformat": 4,
  "nbformat_minor": 0,
  "cells": [
    {
      "cell_type": "markdown",
      "metadata": {},
      "source": "<p align=\"center\">\n  <img style=\"max-height:140px; max-width:100%; height:auto;\" \n       src=\"./ufd.png\" \n       alt=\"UFD Logo\" />\n</p>\n<p style=\"text-align:center;\">Reasoning locally with Qwen3</p>"
    },
    {
      "cell_type": "code",
      "execution_count": null,
      "metadata": {},
      "source": "",
      "outputs": []
    }
  ]
}